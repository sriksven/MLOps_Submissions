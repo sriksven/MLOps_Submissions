{
 "cells": [
  {
   "cell_type": "code",
   "execution_count": null,
   "id": "f151d6f1",
   "metadata": {
    "vscode": {
     "languageId": "plaintext"
    }
   },
   "outputs": [],
   "source": [
    "from datasets import load_dataset\n",
    "import pandas as pd\n",
    "\n",
    "dataset = load_dataset(\"imdb\")\n",
    "df_train = pd.DataFrame(dataset[\"train\"])\n",
    "df_test = pd.DataFrame(dataset[\"test\"])\n",
    "\n",
    "df_train.head()\n"
   ]
  },
  {
   "cell_type": "code",
   "execution_count": null,
   "id": "466ff03b",
   "metadata": {
    "vscode": {
     "languageId": "plaintext"
    }
   },
   "outputs": [],
   "source": [
    "from snorkel.labeling import labeling_function, PandasLFApplier, LFAnalysis\n",
    "from textblob import TextBlob\n",
    "import re\n",
    "\n",
    "ABSTAIN = -1\n",
    "NEGATIVE = 0\n",
    "POSITIVE = 1\n",
    "\n",
    "@labeling_function()\n",
    "def lf_positive_keywords(x):\n",
    "    return POSITIVE if re.search(r\"\\b(great|amazing|love|wonderful|best)\\b\", x.text.lower()) else ABSTAIN\n",
    "\n",
    "@labeling_function()\n",
    "def lf_negative_keywords(x):\n",
    "    return NEGATIVE if re.search(r\"\\b(bad|worst|boring|awful|waste)\\b\", x.text.lower()) else ABSTAIN\n",
    "\n",
    "@labeling_function()\n",
    "def lf_textblob_sentiment(x):\n",
    "    polarity = TextBlob(x.text).sentiment.polarity\n",
    "    if polarity > 0.3:\n",
    "        return POSITIVE\n",
    "    elif polarity < -0.3:\n",
    "        return NEGATIVE\n",
    "    return ABSTAIN\n",
    "\n",
    "lfs = [lf_positive_keywords, lf_negative_keywords, lf_textblob_sentiment]\n"
   ]
  },
  {
   "cell_type": "code",
   "execution_count": null,
   "id": "adb0c0b9",
   "metadata": {
    "vscode": {
     "languageId": "plaintext"
    }
   },
   "outputs": [],
   "source": [
    "from snorkel.labeling import PandasLFApplier, LabelModel\n",
    "\n",
    "applier = PandasLFApplier(lfs)\n",
    "L_train = applier.apply(df=df_train.sample(2000))   # use subset for speed\n",
    "\n",
    "label_model = LabelModel(cardinality=2, verbose=True)\n",
    "label_model.fit(L_train=L_train, n_epochs=500, log_freq=100, seed=42)\n",
    "\n",
    "df_train[\"label_snorkel\"] = label_model.predict(L=L_train)\n"
   ]
  },
  {
   "cell_type": "code",
   "execution_count": null,
   "id": "b77abe49",
   "metadata": {
    "vscode": {
     "languageId": "plaintext"
    }
   },
   "outputs": [],
   "source": [
    "from sklearn.feature_extraction.text import CountVectorizer\n",
    "from sklearn.linear_model import LogisticRegression\n",
    "from sklearn.metrics import f1_score\n",
    "\n",
    "vectorizer = CountVectorizer(max_features=5000, stop_words=\"english\")\n",
    "X_train = vectorizer.fit_transform(df_train[\"text\"])\n",
    "y_train = df_train[\"label_snorkel\"]\n",
    "\n",
    "X_test = vectorizer.transform(df_test[\"text\"])\n",
    "y_test = df_test[\"label\"]\n",
    "\n",
    "clf = LogisticRegression(max_iter=1000)\n",
    "clf.fit(X_train, y_train)\n",
    "\n",
    "preds = clf.predict(X_test)\n",
    "print(\"Test F1:\", f1_score(y_test, preds))\n"
   ]
  },
  {
   "cell_type": "code",
   "execution_count": null,
   "id": "61e0fa8c",
   "metadata": {
    "vscode": {
     "languageId": "plaintext"
    }
   },
   "outputs": [],
   "source": [
    "from snorkel.slicing import slicing_function\n",
    "\n",
    "@slicing_function()\n",
    "def short_review(x):\n",
    "    return len(x.text.split()) < 10\n",
    "\n",
    "@slicing_function()\n",
    "def has_exclamation(x):\n",
    "    return \"!\" in x.text\n",
    "\n",
    "@slicing_function()\n",
    "def contains_movie_name(x):\n",
    "    return bool(re.search(r\"\\b(movie|film|story)\\b\", x.text.lower()))\n",
    "\n",
    "sfs = [short_review, has_exclamation, contains_movie_name]\n"
   ]
  },
  {
   "cell_type": "code",
   "execution_count": null,
   "id": "62b56e88",
   "metadata": {
    "vscode": {
     "languageId": "plaintext"
    }
   },
   "outputs": [],
   "source": [
    "from snorkel.slicing import PandasSFApplier\n",
    "from snorkel.analysis import Scorer\n",
    "import numpy as np\n",
    "\n",
    "applier = PandasSFApplier(sfs)\n",
    "S_test = applier.apply(df_test)\n",
    "\n",
    "preds_test = clf.predict(X_test)\n",
    "probs_test = np.vstack([1 - preds_test, preds_test]).T\n",
    "\n",
    "scorer = Scorer(metrics=[\"f1\"])\n",
    "results = scorer.score_slices(S=S_test, golds=y_test, preds=preds_test, probs=probs_test, as_dataframe=True)\n",
    "print(results)\n"
   ]
  }
 ],
 "metadata": {
  "language_info": {
   "name": "python"
  }
 },
 "nbformat": 4,
 "nbformat_minor": 5
}
